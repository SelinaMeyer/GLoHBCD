{
 "cells": [
  {
   "cell_type": "markdown",
   "metadata": {},
   "source": [
    "Code adapted from https://huggingface.co/docs/transformers/training"
   ]
  },
  {
   "cell_type": "code",
   "execution_count": null,
   "metadata": {},
   "outputs": [],
   "source": [
    "!pip install transformers==4.0.0\n",
    "!pip install tensorflow\n",
    "!pip install keras\n",
    "!pip install Sentencepiece\n",
    "!pip install -q torch==1.4.0 -f https://download.pytorch.org/whl/cu101/torch_stable.html"
   ]
  },
  {
   "cell_type": "code",
   "execution_count": 2,
   "metadata": {},
   "outputs": [],
   "source": [
    "import transformers\n",
    "import torch\n",
    "import keras\n",
    "from datasets import load_dataset\n",
    "\n",
    "import numpy as np\n",
    "import pandas as pd\n",
    "import seaborn as sns\n",
    "from pylab import rcParams\n",
    "import matplotlib.pyplot as plt\n",
    "from matplotlib import rc\n",
    "from sklearn.model_selection import train_test_split\n",
    "from sklearn.metrics import confusion_matrix, classification_report\n",
    "from collections import defaultdict\n",
    "from textwrap import wrap\n",
    "import torch.nn.functional as F\n",
    "\n",
    "from torch import nn, optim\n",
    "from torch.utils.data import Dataset, DataLoader"
   ]
  },
  {
   "cell_type": "markdown",
   "metadata": {},
   "source": [
    "#### Comment in/out depending on which test should be run"
   ]
  },
  {
   "cell_type": "code",
   "execution_count": null,
   "metadata": {},
   "outputs": [],
   "source": [
    "vals_ds_bin = load_dataset('csv', data_files=\"label_train_balanced.csv\", split=[\n",
    "    f'train[{k}%:{k+10}%]' for k in range(0, 100, 10)\n",
    "])\n",
    "trains_ds_bin = load_dataset('csv', data_files=\"label_train_balanced.csv\", split=[\n",
    "    f'train[:{k}%]+train[{k+10}%:]' for k in range(0, 100, 10)\n",
    "])\n",
    "\n",
    "'''vals_ds_bin = load_dataset('csv', data_files=\"label_most_active_train_balanced.csv\", split=[\n",
    "    f'train[{k}%:{k+10}%]' for k in range(0, 100, 10)\n",
    "])\n",
    "trains_ds_bin = load_dataset('csv', data_files=\"label_most_active_train_balanced.csv\", split=[\n",
    "    f'train[:{k}%]+train[{k+10}%:]' for k in range(0, 100, 10)\n",
    "])"
   ]
  },
  {
   "cell_type": "code",
   "execution_count": null,
   "metadata": {},
   "outputs": [],
   "source": [
    "from transformers import AutoTokenizer\n",
    "\n",
    "tokenizer = AutoTokenizer.from_pretrained(\"bert-base-german-cased\")\n",
    "\n",
    "def tokenize_function(examples):\n",
    "    return tokenizer(examples[\"Sentence\"], padding=\"max_length\", truncation=True)\n",
    "\n",
    "for index, val_ds in enumerate(vals_ds_bin):\n",
    "    val_ds = val_ds.remove_columns([\"Unnamed: 0\"])\n",
    "    vals_ds_bin[index] = val_ds.map(tokenize_function, batched=True)\n",
    "    \n",
    "for index, train_ds in enumerate(trains_ds_bin):\n",
    "    train_ds = train_ds.remove_columns([\"Unnamed: 0\"])\n",
    "    trains_ds_bin[index] = train_ds.map(tokenize_function, batched=True)"
   ]
  },
  {
   "cell_type": "code",
   "execution_count": 5,
   "metadata": {},
   "outputs": [],
   "source": [
    "from transformers import AutoModelForSequenceClassification"
   ]
  },
  {
   "cell_type": "code",
   "execution_count": 6,
   "metadata": {},
   "outputs": [],
   "source": [
    "from transformers import TrainingArguments\n",
    "\n",
    "training_args = TrainingArguments(\"test_trainer\", evaluation_strategy=\"epoch\")"
   ]
  },
  {
   "cell_type": "code",
   "execution_count": 7,
   "metadata": {},
   "outputs": [],
   "source": [
    "from sklearn.metrics import precision_recall_fscore_support, accuracy_score, confusion_matrix, plot_confusion_matrix\n",
    "\n",
    "def compute_metrics(pred):\n",
    "    logits, labels = pred\n",
    "    preds_bin = pred.predictions.argmax(-1)\n",
    "    precision, recall, f1, _ = precision_recall_fscore_support(labels, preds_bin, average='macro')\n",
    "    acc = accuracy_score(labels, preds_bin)\n",
    "    return {\n",
    "        'accuracy': acc,\n",
    "        'f1': f1,\n",
    "        'precision': precision,\n",
    "        'recall': recall,\n",
    "    }"
   ]
  },
  {
   "cell_type": "code",
   "execution_count": null,
   "metadata": {},
   "outputs": [],
   "source": [
    "from transformers import Trainer\n",
    "\n",
    "metrics = {}\n",
    "\n",
    "for i in range(10):\n",
    "    model = AutoModelForSequenceClassification.from_pretrained(\"bert-base-german-cased\", num_labels=4)\n",
    "    trainer = Trainer(model=model, args=training_args, train_dataset=trains_ds_bin[i], eval_dataset=vals_ds_bin[i], compute_metrics=compute_metrics)\n",
    "    trainer.train()\n",
    "    metrics[i] = trainer.evaluate() "
   ]
  },
  {
   "cell_type": "code",
   "execution_count": 11,
   "metadata": {},
   "outputs": [
    {
     "data": {
      "text/html": [
       "<div>\n",
       "<style scoped>\n",
       "    .dataframe tbody tr th:only-of-type {\n",
       "        vertical-align: middle;\n",
       "    }\n",
       "\n",
       "    .dataframe tbody tr th {\n",
       "        vertical-align: top;\n",
       "    }\n",
       "\n",
       "    .dataframe thead th {\n",
       "        text-align: right;\n",
       "    }\n",
       "</style>\n",
       "<table border=\"1\" class=\"dataframe\">\n",
       "  <thead>\n",
       "    <tr style=\"text-align: right;\">\n",
       "      <th></th>\n",
       "      <th>eval_loss</th>\n",
       "      <th>eval_accuracy</th>\n",
       "      <th>eval_f1</th>\n",
       "      <th>eval_precision</th>\n",
       "      <th>eval_recall</th>\n",
       "      <th>epoch</th>\n",
       "    </tr>\n",
       "  </thead>\n",
       "  <tbody>\n",
       "    <tr>\n",
       "      <th>count</th>\n",
       "      <td>10.000000</td>\n",
       "      <td>10.000000</td>\n",
       "      <td>10.000000</td>\n",
       "      <td>10.000000</td>\n",
       "      <td>10.000000</td>\n",
       "      <td>10.0</td>\n",
       "    </tr>\n",
       "    <tr>\n",
       "      <th>mean</th>\n",
       "      <td>1.107720</td>\n",
       "      <td>0.779588</td>\n",
       "      <td>0.763052</td>\n",
       "      <td>0.768537</td>\n",
       "      <td>0.760180</td>\n",
       "      <td>3.0</td>\n",
       "    </tr>\n",
       "    <tr>\n",
       "      <th>std</th>\n",
       "      <td>0.211668</td>\n",
       "      <td>0.034941</td>\n",
       "      <td>0.037776</td>\n",
       "      <td>0.035225</td>\n",
       "      <td>0.040644</td>\n",
       "      <td>0.0</td>\n",
       "    </tr>\n",
       "    <tr>\n",
       "      <th>min</th>\n",
       "      <td>0.848413</td>\n",
       "      <td>0.720524</td>\n",
       "      <td>0.694285</td>\n",
       "      <td>0.708980</td>\n",
       "      <td>0.687562</td>\n",
       "      <td>3.0</td>\n",
       "    </tr>\n",
       "    <tr>\n",
       "      <th>25%</th>\n",
       "      <td>0.947826</td>\n",
       "      <td>0.756550</td>\n",
       "      <td>0.740410</td>\n",
       "      <td>0.750147</td>\n",
       "      <td>0.734882</td>\n",
       "      <td>3.0</td>\n",
       "    </tr>\n",
       "    <tr>\n",
       "      <th>50%</th>\n",
       "      <td>1.069932</td>\n",
       "      <td>0.779476</td>\n",
       "      <td>0.754081</td>\n",
       "      <td>0.756894</td>\n",
       "      <td>0.755377</td>\n",
       "      <td>3.0</td>\n",
       "    </tr>\n",
       "    <tr>\n",
       "      <th>75%</th>\n",
       "      <td>1.305235</td>\n",
       "      <td>0.810044</td>\n",
       "      <td>0.794378</td>\n",
       "      <td>0.795255</td>\n",
       "      <td>0.789109</td>\n",
       "      <td>3.0</td>\n",
       "    </tr>\n",
       "    <tr>\n",
       "      <th>max</th>\n",
       "      <td>1.427564</td>\n",
       "      <td>0.829694</td>\n",
       "      <td>0.821144</td>\n",
       "      <td>0.818860</td>\n",
       "      <td>0.823604</td>\n",
       "      <td>3.0</td>\n",
       "    </tr>\n",
       "  </tbody>\n",
       "</table>\n",
       "</div>"
      ],
      "text/plain": [
       "       eval_loss  eval_accuracy    eval_f1  eval_precision  eval_recall  epoch\n",
       "count  10.000000      10.000000  10.000000       10.000000    10.000000   10.0\n",
       "mean    1.107720       0.779588   0.763052        0.768537     0.760180    3.0\n",
       "std     0.211668       0.034941   0.037776        0.035225     0.040644    0.0\n",
       "min     0.848413       0.720524   0.694285        0.708980     0.687562    3.0\n",
       "25%     0.947826       0.756550   0.740410        0.750147     0.734882    3.0\n",
       "50%     1.069932       0.779476   0.754081        0.756894     0.755377    3.0\n",
       "75%     1.305235       0.810044   0.794378        0.795255     0.789109    3.0\n",
       "max     1.427564       0.829694   0.821144        0.818860     0.823604    3.0"
      ]
     },
     "execution_count": 11,
     "metadata": {},
     "output_type": "execute_result"
    }
   ],
   "source": [
    "metrics_df = pd.DataFrame.from_dict(metrics).transpose()\n",
    "metrics_df.describe()"
   ]
  },
  {
   "cell_type": "markdown",
   "metadata": {},
   "source": [
    "#### Comment in/out depending on training set"
   ]
  },
  {
   "cell_type": "code",
   "execution_count": null,
   "metadata": {},
   "outputs": [],
   "source": [
    "test = load_dataset('csv', data_files=\"label_test.csv\")\n",
    "#test = load_dataset('csv', data_files=\"label_least_active_test.csv\")\n",
    "\n",
    "test = test.remove_columns([\"Unnamed: 0\"])\n",
    "test = test.map(tokenize_function, batched=True)"
   ]
  },
  {
   "cell_type": "code",
   "execution_count": 16,
   "metadata": {},
   "outputs": [
    {
     "data": {
      "text/plain": [
       "{'accuracy': 0.7914438502673797,\n",
       " 'f1': 0.7245761846405229,\n",
       " 'precision': 0.7137772946589145,\n",
       " 'recall': 0.7370868467356019}"
      ]
     },
     "execution_count": 16,
     "metadata": {},
     "output_type": "execute_result"
    }
   ],
   "source": [
    "#redefining compute_metrics function to fit trainer.predict returns\n",
    "def compute_metrics(pred):\n",
    "    labels = pred.label_ids\n",
    "    preds = pred.predictions.argmax(-1)\n",
    "    precision, recall, f1, _ = precision_recall_fscore_support(labels, preds, average='macro')\n",
    "    acc = accuracy_score(labels, preds)\n",
    "    return {\n",
    "        'accuracy': acc,\n",
    "        'f1': f1,\n",
    "        'precision': precision,\n",
    "        'recall': recall,\n",
    "    }\n",
    "\n",
    "y_pred = trainer.predict(test[\"train\"])\n",
    "compute_metrics(y_pred)"
   ]
  },
  {
   "cell_type": "code",
   "execution_count": null,
   "metadata": {},
   "outputs": [],
   "source": [
    "from sklearn.metrics import confusion_matrix, classification_report, ConfusionMatrixDisplay\n",
    "\n",
    "cm = confusion_matrix(y_pred.label_ids, y_pred.predictions.argmax(-1))\n",
    "cm = cm.astype('float') / cm.sum(axis=1)[:, np.newaxis]\n",
    "ConfusionMatrixDisplay.from_predictions(y_pred.label_ids, y_pred.predictions.argmax(-1))"
   ]
  },
  {
   "cell_type": "code",
   "execution_count": 15,
   "metadata": {},
   "outputs": [
    {
     "data": {
      "image/png": "[encoded data removed]",
      "text/plain": [
       "<Figure size 432x288 with 2 Axes>"
      ]
     },
     "metadata": {
      "needs_background": "light"
     },
     "output_type": "display_data"
    }
   ],
   "source": [
    "# Code adapted from https://curiousily.com/posts/sentiment-analysis-with-bert-and-hugging-face-using-pytorch-and-python/\n",
    "\n",
    "def show_confusion_matrix(confusion_matrix):\n",
    "  hmap = sns.heatmap(confusion_matrix, annot=True, fmt=\".2f\", cmap=\"PuRd\")\n",
    "  hmap.yaxis.set_ticklabels(hmap.yaxis.get_ticklabels(), rotation=0, ha='right')\n",
    "  hmap.xaxis.set_ticklabels(hmap.xaxis.get_ticklabels(), rotation=0, ha='right')\n",
    "  plt.ylabel('True Label')\n",
    "  plt.xlabel('Predicted Label');\n",
    "\n",
    "class_names=[\"R\", \"TS\", \"C\"]\n",
    "\n",
    "cm = confusion_matrix(y_pred.label_ids, y_pred.predictions.argmax(-1))\n",
    "cm = cm.astype('float') / cm.sum(axis=1)[:, np.newaxis]\n",
    "df_cm = pd.DataFrame(cm, index=class_names, columns=class_names)\n",
    "show_confusion_matrix(df_cm)"
   ]
  }
 ],
 "metadata": {
  "kernelspec": {
   "display_name": "Python 3",
   "language": "python",
   "name": "python3"
  },
  "language_info": {
   "codemirror_mode": {
    "name": "ipython",
    "version": 3
   },
   "file_extension": ".py",
   "mimetype": "text/x-python",
   "name": "python",
   "nbconvert_exporter": "python",
   "pygments_lexer": "ipython3",
   "version": "3.9.9"
  }
 },
 "nbformat": 4,
 "nbformat_minor": 4
}
