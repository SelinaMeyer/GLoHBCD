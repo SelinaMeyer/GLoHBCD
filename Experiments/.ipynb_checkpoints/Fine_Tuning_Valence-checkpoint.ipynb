{
 "cells": [
  {
   "cell_type": "markdown",
   "metadata": {},
   "source": [
    "Code adapted from https://huggingface.co/docs/transformers/training"
   ]
  },
  {
   "cell_type": "code",
   "execution_count": null,
   "metadata": {},
   "outputs": [],
   "source": [
    "!pip install transformers==4.0.0\n",
    "!pip install tensorflow\n",
    "!pip install keras\n",
    "!pip install Sentencepiece\n",
    "!pip install -q torch==1.4.0 -f https://download.pytorch.org/whl/cu101/torch_stable.html\n",
    "!pip install datasets\n",
    "!pip install -U scikit-learn"
   ]
  },
  {
   "cell_type": "code",
   "execution_count": 2,
   "metadata": {},
   "outputs": [],
   "source": [
    "import transformers\n",
    "import torch\n",
    "import keras\n",
    "from datasets import load_dataset\n",
    "\n",
    "import numpy as np\n",
    "import pandas as pd\n",
    "import seaborn as sns\n",
    "from pylab import rcParams\n",
    "import matplotlib.pyplot as plt\n",
    "from matplotlib import rc\n",
    "from sklearn.model_selection import train_test_split\n",
    "from sklearn.metrics import confusion_matrix, classification_report, ConfusionMatrixDisplay\n",
    "from sklearn.metrics import precision_recall_fscore_support, accuracy_score, confusion_matrix, plot_confusion_matrix\n",
    "from collections import defaultdict\n",
    "from textwrap import wrap\n",
    "import torch.nn.functional as F\n",
    "\n",
    "from torch import nn, optim\n",
    "from torch.utils.data import Dataset, DataLoader\n",
    "\n",
    "from transformers import AutoModelForSequenceClassification\n",
    "from transformers import TrainingArguments"
   ]
  },
  {
   "cell_type": "markdown",
   "metadata": {},
   "source": [
    "#### Comment in/out depending on which test should be run"
   ]
  },
  {
   "cell_type": "code",
   "execution_count": null,
   "metadata": {},
   "outputs": [],
   "source": [
    "vals_ds_bin = load_dataset('csv', data_files=\"valence_train_balanced.csv\", split=[\n",
    "    f'train[{k}%:{k+10}%]' for k in range(0, 100, 10)\n",
    "])\n",
    "trains_ds_bin = load_dataset('csv', data_files=\"valence_train_balanced.csv\", split=[\n",
    "    f'train[:{k}%]+train[{k+10}%:]' for k in range(0, 100, 10)\n",
    "])\n",
    "\n",
    "'''vals_ds_bin = load_dataset('csv', data_files=\"valence_most_active_train_balanced.csv\", split=[\n",
    "    f'train[{k}%:{k+10}%]' for k in range(0, 100, 10)\n",
    "])\n",
    "trains_ds_bin = load_dataset('csv', data_files=\"valence_most_active_train_balanced.csv\", split=[\n",
    "    f'train[:{k}%]+train[{k+10}%:]' for k in range(0, 100, 10)\n",
    "])"
   ]
  },
  {
   "cell_type": "code",
   "execution_count": null,
   "metadata": {},
   "outputs": [],
   "source": [
    "from transformers import AutoTokenizer\n",
    "\n",
    "tokenizer = AutoTokenizer.from_pretrained(\"bert-base-german-cased\")\n",
    "\n",
    "def tokenize_function(examples):\n",
    "    return tokenizer(examples[\"Sentence\"], padding=\"max_length\", truncation=True)\n",
    "\n",
    "for index, val_ds in enumerate(vals_ds_bin):\n",
    "    val_ds = val_ds.remove_columns([\"Unnamed: 0\"])\n",
    "    vals_ds_bin[index] = val_ds.map(tokenize_function, batched=True)\n",
    "    \n",
    "for index, train_ds in enumerate(trains_ds_bin):\n",
    "    train_ds = train_ds.remove_columns([\"Unnamed: 0\"])\n",
    "    trains_ds_bin[index] = train_ds.map(tokenize_function, batched=True)"
   ]
  },
  {
   "cell_type": "code",
   "execution_count": 5,
   "metadata": {},
   "outputs": [],
   "source": [
    "training_args = TrainingArguments(\"test_trainer\", evaluation_strategy=\"epoch\")"
   ]
  },
  {
   "cell_type": "code",
   "execution_count": 6,
   "metadata": {},
   "outputs": [],
   "source": [
    "def compute_metrics(pred):\n",
    "    logits, labels = pred\n",
    "    preds_bin = pred.predictions.argmax(-1)\n",
    "    precision, recall, f1, _ = precision_recall_fscore_support(labels, preds_bin, average='binary')\n",
    "    acc = accuracy_score(labels, preds_bin)\n",
    "    return {\n",
    "        'accuracy': acc,\n",
    "        'f1': f1,\n",
    "        'precision': precision,\n",
    "        'recall': recall,\n",
    "    }"
   ]
  },
  {
   "cell_type": "code",
   "execution_count": null,
   "metadata": {},
   "outputs": [],
   "source": [
    "from transformers import Trainer\n",
    "\n",
    "metrics = {}\n",
    "\n",
    "for i in range(10):\n",
    "    model = AutoModelForSequenceClassification.from_pretrained(\"bert-base-german-cased\", num_labels=2)\n",
    "    trainer_bin = Trainer(model=model, args=training_args, train_dataset=trains_ds_bin[i], eval_dataset=vals_ds_bin[i], compute_metrics=compute_metrics)\n",
    "    trainer_bin.train()\n",
    "    metrics[i] = trainer_bin.evaluate()"
   ]
  },
  {
   "cell_type": "code",
   "execution_count": 9,
   "metadata": {},
   "outputs": [
    {
     "data": {
      "text/html": [
       "<div>\n",
       "<style scoped>\n",
       "    .dataframe tbody tr th:only-of-type {\n",
       "        vertical-align: middle;\n",
       "    }\n",
       "\n",
       "    .dataframe tbody tr th {\n",
       "        vertical-align: top;\n",
       "    }\n",
       "\n",
       "    .dataframe thead th {\n",
       "        text-align: right;\n",
       "    }\n",
       "</style>\n",
       "<table border=\"1\" class=\"dataframe\">\n",
       "  <thead>\n",
       "    <tr style=\"text-align: right;\">\n",
       "      <th></th>\n",
       "      <th>eval_loss</th>\n",
       "      <th>eval_accuracy</th>\n",
       "      <th>eval_f1</th>\n",
       "      <th>eval_precision</th>\n",
       "      <th>eval_recall</th>\n",
       "      <th>epoch</th>\n",
       "    </tr>\n",
       "  </thead>\n",
       "  <tbody>\n",
       "    <tr>\n",
       "      <th>count</th>\n",
       "      <td>10.000000</td>\n",
       "      <td>10.000000</td>\n",
       "      <td>10.000000</td>\n",
       "      <td>10.000000</td>\n",
       "      <td>10.000000</td>\n",
       "      <td>10.0</td>\n",
       "    </tr>\n",
       "    <tr>\n",
       "      <th>mean</th>\n",
       "      <td>1.126137</td>\n",
       "      <td>0.752404</td>\n",
       "      <td>0.748581</td>\n",
       "      <td>0.757997</td>\n",
       "      <td>0.740608</td>\n",
       "      <td>3.0</td>\n",
       "    </tr>\n",
       "    <tr>\n",
       "      <th>std</th>\n",
       "      <td>0.129468</td>\n",
       "      <td>0.022175</td>\n",
       "      <td>0.026798</td>\n",
       "      <td>0.023143</td>\n",
       "      <td>0.043179</td>\n",
       "      <td>0.0</td>\n",
       "    </tr>\n",
       "    <tr>\n",
       "      <th>min</th>\n",
       "      <td>0.979647</td>\n",
       "      <td>0.714912</td>\n",
       "      <td>0.696517</td>\n",
       "      <td>0.733945</td>\n",
       "      <td>0.660377</td>\n",
       "      <td>3.0</td>\n",
       "    </tr>\n",
       "    <tr>\n",
       "      <th>25%</th>\n",
       "      <td>1.032568</td>\n",
       "      <td>0.738800</td>\n",
       "      <td>0.733715</td>\n",
       "      <td>0.737211</td>\n",
       "      <td>0.722191</td>\n",
       "      <td>3.0</td>\n",
       "    </tr>\n",
       "    <tr>\n",
       "      <th>50%</th>\n",
       "      <td>1.116609</td>\n",
       "      <td>0.753275</td>\n",
       "      <td>0.748169</td>\n",
       "      <td>0.757445</td>\n",
       "      <td>0.746561</td>\n",
       "      <td>3.0</td>\n",
       "    </tr>\n",
       "    <tr>\n",
       "      <th>75%</th>\n",
       "      <td>1.137795</td>\n",
       "      <td>0.761233</td>\n",
       "      <td>0.768690</td>\n",
       "      <td>0.768733</td>\n",
       "      <td>0.761332</td>\n",
       "      <td>3.0</td>\n",
       "    </tr>\n",
       "    <tr>\n",
       "      <th>max</th>\n",
       "      <td>1.409013</td>\n",
       "      <td>0.786026</td>\n",
       "      <td>0.787879</td>\n",
       "      <td>0.798246</td>\n",
       "      <td>0.810345</td>\n",
       "      <td>3.0</td>\n",
       "    </tr>\n",
       "  </tbody>\n",
       "</table>\n",
       "</div>"
      ],
      "text/plain": [
       "       eval_loss  eval_accuracy    eval_f1  eval_precision  eval_recall  epoch\n",
       "count  10.000000      10.000000  10.000000       10.000000    10.000000   10.0\n",
       "mean    1.126137       0.752404   0.748581        0.757997     0.740608    3.0\n",
       "std     0.129468       0.022175   0.026798        0.023143     0.043179    0.0\n",
       "min     0.979647       0.714912   0.696517        0.733945     0.660377    3.0\n",
       "25%     1.032568       0.738800   0.733715        0.737211     0.722191    3.0\n",
       "50%     1.116609       0.753275   0.748169        0.757445     0.746561    3.0\n",
       "75%     1.137795       0.761233   0.768690        0.768733     0.761332    3.0\n",
       "max     1.409013       0.786026   0.787879        0.798246     0.810345    3.0"
      ]
     },
     "execution_count": 9,
     "metadata": {},
     "output_type": "execute_result"
    }
   ],
   "source": [
    "metrics_df = pd.DataFrame.from_dict(metrics).transpose()\n",
    "metrics_df.describe()"
   ]
  },
  {
   "cell_type": "markdown",
   "metadata": {},
   "source": [
    "#### Comment in/out depending on training set"
   ]
  },
  {
   "cell_type": "code",
   "execution_count": null,
   "metadata": {},
   "outputs": [],
   "source": [
    "test = load_dataset('csv', data_files=\"valence_test.csv\")\n",
    "#test = load_dataset('csv', data_files=\"valence_least_active_test.csv\")\n",
    "\n",
    "test = test.remove_columns([\"Unnamed: 0\"])\n",
    "test = test.map(tokenize_function, batched=True)"
   ]
  },
  {
   "cell_type": "code",
   "execution_count": 12,
   "metadata": {},
   "outputs": [
    {
     "data": {
      "text/plain": [
       "{'accuracy': 0.746524064171123,\n",
       " 'f1': 0.7982978723404255,\n",
       " 'precision': 0.8605504587155963,\n",
       " 'recall': 0.7444444444444445}"
      ]
     },
     "execution_count": 12,
     "metadata": {},
     "output_type": "execute_result"
    }
   ],
   "source": [
    "#redefining compute_metrics function to fit trainer.predict returns\n",
    "def compute_metrics(pred):\n",
    "    labels = pred.label_ids\n",
    "    preds = pred.predictions.argmax(-1)\n",
    "    precision, recall, f1, _ = precision_recall_fscore_support(labels, preds, average='binary')\n",
    "    acc = accuracy_score(labels, preds)\n",
    "    return {\n",
    "        'accuracy': acc,\n",
    "        'f1': f1,\n",
    "        'precision': precision,\n",
    "        'recall': recall,\n",
    "    }\n",
    "\n",
    "y_pred = trainer_bin.predict(test[\"train\"])\n",
    "compute_metrics(y_pred)"
   ]
  },
  {
   "cell_type": "code",
   "execution_count": 13,
   "metadata": {
    "scrolled": true
   },
   "outputs": [
    {
     "data": {
      "image/png": "[encoded data removed]",
      "text/plain": [
       "<Figure size 432x288 with 2 Axes>"
      ]
     },
     "metadata": {
      "needs_background": "light"
     },
     "output_type": "display_data"
    }
   ],
   "source": [
    "# Code adapted from https://curiousily.com/posts/sentiment-analysis-with-bert-and-hugging-face-using-pytorch-and-python/\n",
    "def show_confusion_matrix(confusion_matrix):\n",
    "  hmap = sns.heatmap(confusion_matrix, annot=True, fmt=\".2f\", cmap=\"PuRd\")\n",
    "  hmap.yaxis.set_ticklabels(hmap.yaxis.get_ticklabels(), rotation=0, ha='right')\n",
    "  hmap.xaxis.set_ticklabels(hmap.xaxis.get_ticklabels(), rotation=0, ha='right')\n",
    "  hmap= sns.set(rc={'axes.facecolor':'white', 'figure.facecolor':'white'})\n",
    "  plt.ylabel('True Label')\n",
    "  plt.xlabel('Predicted Label');\n",
    "\n",
    "class_names=[\"-\", \"+\"]\n",
    "\n",
    "cm = confusion_matrix(y_pred.label_ids, y_pred.predictions.argmax(-1))\n",
    "cm = cm.astype('float') / cm.sum(axis=1)[:, np.newaxis]\n",
    "df_cm = pd.DataFrame(cm, index=class_names, columns=class_names)\n",
    "show_confusion_matrix(df_cm)"
   ]
  }
 ],
 "metadata": {
  "kernelspec": {
   "display_name": "Python 3",
   "language": "python",
   "name": "python3"
  },
  "language_info": {
   "codemirror_mode": {
    "name": "ipython",
    "version": 3
   },
   "file_extension": ".py",
   "mimetype": "text/x-python",
   "name": "python",
   "nbconvert_exporter": "python",
   "pygments_lexer": "ipython3",
   "version": "3.9.9"
  }
 },
 "nbformat": 4,
 "nbformat_minor": 4
}
